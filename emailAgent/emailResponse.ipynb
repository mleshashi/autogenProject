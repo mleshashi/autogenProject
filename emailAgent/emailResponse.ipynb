{
 "cells": [
  {
   "cell_type": "code",
   "execution_count": 4,
   "metadata": {},
   "outputs": [],
   "source": [
    "import autogen\n",
    "import config"
   ]
  },
  {
   "cell_type": "code",
   "execution_count": 2,
   "metadata": {},
   "outputs": [],
   "source": [
    "# Import necessary libraries\n",
    "import imaplib\n",
    "import email\n",
    "from email.header import decode_header\n",
    "import re\n",
    "\n",
    "# Define a function to fetch the latest email details from a specific sender\n",
    "def fetch_latest_email_details(user, password, sender):\n",
    "    # Connect to the Gmail IMAP server securely using SSL\n",
    "    mail = imaplib.IMAP4_SSL(\"imap.gmail.com\")\n",
    "    # Log in to the specified email account\n",
    "    mail.login(user, password)\n",
    "    # Select the inbox for operations\n",
    "    mail.select(\"inbox\")\n",
    "\n",
    "    # Search for emails from the specified sender, 'FROM' filter used in IMAP search command\n",
    "    status, messages = mail.search(None, f'(FROM \"{sender}\")')\n",
    "    # Check if the search was successful\n",
    "    if status != \"OK\":\n",
    "        print(\"No emails found!\")\n",
    "        return None, None\n",
    "\n",
    "    # Extract the ID of the latest email from the specified sender\n",
    "    latest_email_id = messages[0].split()[-1]\n",
    "    # Fetch the entire email (using RFC822 protocol) corresponding to the latest ID\n",
    "    status, data = mail.fetch(latest_email_id, \"(RFC822)\")\n",
    "    if status != \"OK\":\n",
    "        print(\"Failed to fetch the email.\")\n",
    "        return None, None\n",
    "\n",
    "    # Parse the email content into a message object\n",
    "    msg = email.message_from_bytes(data[0][1])\n",
    "    # Decode the email subject, if it's encoded\n",
    "    subject = decode_header(msg[\"subject\"])[0][0]\n",
    "    if isinstance(subject, bytes):\n",
    "        # Decode to string if subject is in bytes\n",
    "        subject = subject.decode()\n",
    "\n",
    "    # Initialize body content variable\n",
    "    body = \"\"\n",
    "    # Check if the email is multipart (has multiple parts like body, attachments)\n",
    "    if msg.is_multipart():\n",
    "        # Iterate through each part of the email\n",
    "        for part in msg.walk():\n",
    "            # Get the content type of the part\n",
    "            ctype = part.get_content_type()\n",
    "            # Check if the part is plain text or HTML content\n",
    "            if ctype == \"text/plain\" or ctype == \"text/html\":\n",
    "                # Decode and assign the content to 'body' variable\n",
    "                body = part.get_payload(decode=True).decode()\n",
    "                break\n",
    "    else:\n",
    "        # For non-multipart emails, directly decode and assign content\n",
    "        body = msg.get_payload(decode=True).decode()\n",
    "\n",
    "    # Define regex patterns to find the quoted text that indicates a reply or forward\n",
    "    patterns = [\n",
    "        r\"On\\s+\\w{3}\\s+\\d{1,2}\\.\\s+\\w{3}\\s+\\d{4}\\s+at\\s+\\d{1,2}:\\d{2},\\s+<[^>]+>\\s+wrote:\",  # Pattern 1\n",
    "        r\"On\\s+\\w{3},\\s+\\d{1,2}\\s+\\w{3}\\s+\\d{4},\\s+\\d{1,2}:\\d{2}\\s*,\\s*<[^>]+>\\s+wrote:\",  # Pattern 2\n",
    "        r\"On\\s+\\w{3},\\s+\\d{1,2}\\s+\\w{3}\\s+\\d{4}\\s+at\\s+\\d{1,2}:\\d{2}\\s+[AP]M,\\s+<[^>]+>\\s+wrote:\"  # Pattern 3\n",
    "    ]\n",
    "\n",
    "    # Initialize a variable to track the first match position of the patterns\n",
    "    first_match_pos = len(body)\n",
    "    # Iterate through each pattern to find a match in the email body\n",
    "    for pattern in patterns:\n",
    "        match = re.search(pattern, body, re.MULTILINE | re.IGNORECASE | re.DOTALL)\n",
    "        # If a match is found and its position is before any previous match, update 'first_match_pos'\n",
    "        if match and match.start() < first_match_pos:\n",
    "            first_match_pos = match.start()\n",
    "\n",
    "    # Extract everything before the first match as the latest message, otherwise consider the entire body\n",
    "    latest_message = body[:first_match_pos].strip() if first_match_pos != len(body) else body\n",
    "\n",
    "    # Return the decoded subject and the latest message content\n",
    "    return subject, latest_message"
   ]
  },
  {
   "cell_type": "code",
   "execution_count": 5,
   "metadata": {},
   "outputs": [
    {
     "name": "stdout",
     "output_type": "stream",
     "text": [
      "Email saved to latest_email.txt\n"
     ]
    }
   ],
   "source": [
    "# Set Gmail credentials and sender's email address\n",
    "user = config.user_email\n",
    "password = config.app_password\n",
    "sender_email = config.sender\n",
    "\n",
    "# Fetch latest email details (subject and body) from specified sender\n",
    "subject, latest_email_body = fetch_latest_email_details(user, password, sender_email)\n",
    "\n",
    "# Define file path for saving email content\n",
    "file_path = \"latest_email.txt\"\n",
    "\n",
    "# Save email content to file if fetched successfully\n",
    "if subject and latest_email_body:\n",
    "    # Write email subject and body to file if retrieval was successful\n",
    "    with open(file_path, \"w\", encoding=\"utf-8\") as file:\n",
    "        file.write(f\"Subject: {subject}\\n\\n{latest_email_body}\")\n",
    "    print(f\"Email saved to {file_path}\")\n",
    "else:\n",
    "    # Print failure message if email fetching fails\n",
    "    print(\"Failed to fetch email or no emails from the specified sender.\")"
   ]
  },
  {
   "cell_type": "code",
   "execution_count": null,
   "metadata": {},
   "outputs": [],
   "source": []
  }
 ],
 "metadata": {
  "kernelspec": {
   "display_name": "env",
   "language": "python",
   "name": "python3"
  },
  "language_info": {
   "codemirror_mode": {
    "name": "ipython",
    "version": 3
   },
   "file_extension": ".py",
   "mimetype": "text/x-python",
   "name": "python",
   "nbconvert_exporter": "python",
   "pygments_lexer": "ipython3",
   "version": "3.10.12"
  }
 },
 "nbformat": 4,
 "nbformat_minor": 2
}
